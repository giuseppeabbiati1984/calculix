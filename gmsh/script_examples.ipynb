{
 "cells": [
  {
   "cell_type": "markdown",
   "metadata": {},
   "source": [
    "# Tutorial 1"
   ]
  },
  {
   "cell_type": "code",
   "execution_count": null,
   "metadata": {},
   "outputs": [],
   "source": [
    "import numpy as np\n",
    "import gmsh\n",
    "import sys\n",
    "\n",
    "# Initialize the Gmsh API\n",
    "gmsh.initialize()\n",
    "gmsh.model.list()"
   ]
  },
  {
   "cell_type": "code",
   "execution_count": null,
   "metadata": {},
   "outputs": [],
   "source": [
    "gmsh.model.add(\"t1\")\n",
    "\n",
    "lc = 1e-2   \n",
    "\n",
    "# coordinates, meshsize, tag\n",
    "gmsh.model.geo.addPoint(0,   0, 0, lc, 1)\n",
    "gmsh.model.geo.addPoint(.1,  0, 0, lc, 2)\n",
    "gmsh.model.geo.addPoint(.1, .3, 0, lc, 3)\n",
    "p4 = gmsh.model.geo.addPoint(0, .3, 0, lc)\n",
    "\n",
    "gmsh.model.geo.addLine(1,2,1)\n",
    "gmsh.model.geo.addLine(3,2,2)\n",
    "gmsh.model.geo.addLine(3,p4,3)\n",
    "gmsh.model.geo.addLine(4,1,p4)\n",
    "\n",
    "# list of points, tag\n",
    "gmsh.model.geo.addCurveLoop([4,1,-2,3],1)\n"
   ]
  },
  {
   "cell_type": "code",
   "execution_count": 3,
   "metadata": {},
   "outputs": [],
   "source": [
    "# list of curvee loops, tag\n",
    "gmsh.model.geo.addPlaneSurface([1],1)\n",
    "gmsh.model.geo.synchronize()\n"
   ]
  },
  {
   "cell_type": "code",
   "execution_count": null,
   "metadata": {},
   "outputs": [],
   "source": [
    "gmsh.model"
   ]
  },
  {
   "cell_type": "code",
   "execution_count": null,
   "metadata": {},
   "outputs": [],
   "source": [
    "# dimension, list, tag\n",
    "gmsh.model.addPhysicalGroup(1, [1,2,4], 5)\n",
    "gmsh.model.addPhysicalGroup(2, [1], name=\"my surface\")"
   ]
  },
  {
   "cell_type": "code",
   "execution_count": 5,
   "metadata": {},
   "outputs": [],
   "source": [
    "gmsh.model.list()\n",
    "# to be sure you are still on the same model\n",
    "gmsh.model.setCurrent('t1')"
   ]
  },
  {
   "cell_type": "code",
   "execution_count": null,
   "metadata": {},
   "outputs": [],
   "source": [
    "\n",
    "# get the list of all 2D entities (dim)\n",
    "s = gmsh.model.getEntities(1)\n",
    "s"
   ]
  },
  {
   "cell_type": "code",
   "execution_count": null,
   "metadata": {},
   "outputs": [],
   "source": [
    "physical_groups = gmsh.model.getPhysicalGroups()\n",
    "physical_groups"
   ]
  },
  {
   "cell_type": "code",
   "execution_count": null,
   "metadata": {},
   "outputs": [],
   "source": [
    "# get the boundary of the entity (dim,tag) - combined, oriented, recursive (up to dim 0)\n",
    "b = gmsh.model.getBoundary([(2,1)], True, True, False)\n",
    "b"
   ]
  },
  {
   "cell_type": "code",
   "execution_count": null,
   "metadata": {},
   "outputs": [],
   "source": [
    "# adiacent entities (dim,tag) in the dim direction (superior dim and inferior dim)\n",
    "u,d = gmsh.model.getAdjacencies(2,1)\n",
    "u,d"
   ]
  },
  {
   "cell_type": "code",
   "execution_count": null,
   "metadata": {},
   "outputs": [],
   "source": [
    "# get the list of entities in the bounding box (xmin,ymin,zmin,xmax,ymax,zmax,dim), no dim means all\n",
    "gmsh.model.getEntitiesInBoundingBox(0.0,0.0,0.0,0.1,0.3,0.0,2)"
   ]
  },
  {
   "cell_type": "code",
   "execution_count": null,
   "metadata": {},
   "outputs": [],
   "source": [
    "# get the dimension of the model, that is, the maximum dimension of the entities\n",
    "gmsh.model.getDimension()"
   ]
  },
  {
   "cell_type": "code",
   "execution_count": 12,
   "metadata": {},
   "outputs": [],
   "source": [
    "if False:\n",
    "    # remove a list of entities; if recursive is True, all the entities that depend on the entities in the list are removed\n",
    "    gmsh.model.removeEntities([(2,1)],False)\n",
    "    gmsh.model.getEntities(1),gmsh.model.getEntities(2)"
   ]
  },
  {
   "cell_type": "code",
   "execution_count": null,
   "metadata": {},
   "outputs": [],
   "source": [
    "# get the type of an entity\n",
    "gmsh.model.getType(1,1)"
   ]
  },
  {
   "cell_type": "code",
   "execution_count": null,
   "metadata": {},
   "outputs": [],
   "source": [
    "# parent of a partitioned model\n",
    "gmsh.model.getParent(1,1)"
   ]
  },
  {
   "cell_type": "code",
   "execution_count": null,
   "metadata": {},
   "outputs": [],
   "source": [
    "# get the coordinate of the mid-point of a curve\n",
    "lb,ub = gmsh.model.getParametrizationBounds(1, 1)\n",
    "lb[0],ub[0]\n"
   ]
  },
  {
   "cell_type": "code",
   "execution_count": null,
   "metadata": {},
   "outputs": [],
   "source": [
    "# get the point on an entity that is closet to a given point\n",
    "gmsh.model.getClosestPoint(1,1,[.1,2.0,0.])"
   ]
  },
  {
   "cell_type": "code",
   "execution_count": null,
   "metadata": {},
   "outputs": [],
   "source": [
    "# get the coordinate of the point at the given parametrization location\n",
    "coord = gmsh.model.getValue(1,1,[(lb[0]+ub[0])/2])\n",
    "coord "
   ]
  },
  {
   "cell_type": "code",
   "execution_count": null,
   "metadata": {},
   "outputs": [],
   "source": [
    "# get the parametrization location of the given point\n",
    "param = gmsh.model.getParametrization(1,1,coord)\n",
    "param"
   ]
  },
  {
   "cell_type": "code",
   "execution_count": null,
   "metadata": {},
   "outputs": [],
   "source": [
    "# the third argument is a list of coordinates\n",
    "gmsh.model.getDerivative(1,1,[(lb[0]+ub[0])/2])\n"
   ]
  },
  {
   "cell_type": "code",
   "execution_count": null,
   "metadata": {},
   "outputs": [],
   "source": [
    "# the third argument is a list of coordinates\n",
    "gmsh.model.getSecondDerivative(1,1,[(lb[0]+ub[0])/2])"
   ]
  },
  {
   "cell_type": "code",
   "execution_count": null,
   "metadata": {},
   "outputs": [],
   "source": [
    "# the third argument is a list of coordinates\n",
    "gmsh.model.getCurvature(1,1,[(lb[0]+ub[0])/2])"
   ]
  },
  {
   "cell_type": "code",
   "execution_count": null,
   "metadata": {},
   "outputs": [],
   "source": [
    "# set the visibility of a list of entities recursively\n",
    "gmsh.model.setVisibility([(1,1)],1,True)\n",
    "gmsh.model.getVisibility(1,1)"
   ]
  },
  {
   "cell_type": "code",
   "execution_count": 23,
   "metadata": {},
   "outputs": [],
   "source": [
    "gmsh.model.setColor([(1,1)],0,255,255,255,True)"
   ]
  },
  {
   "cell_type": "code",
   "execution_count": 31,
   "metadata": {},
   "outputs": [],
   "source": [
    "attrs = gmsh.model.getAttributeNames()\n",
    "for attr in attrs:\n",
    "    print(attr)\n",
    "    print(gmsh.model.getAttribute(1,1,attr))"
   ]
  },
  {
   "cell_type": "code",
   "execution_count": 34,
   "metadata": {},
   "outputs": [],
   "source": [
    "# generate a 2d mesh\n",
    "gmsh.model.mesh.generate(2)"
   ]
  },
  {
   "cell_type": "code",
   "execution_count": 38,
   "metadata": {},
   "outputs": [],
   "source": [
    "# partitione the mesh in 4 groups\n",
    "gmsh.model.mesh.partition(4)"
   ]
  },
  {
   "cell_type": "code",
   "execution_count": 42,
   "metadata": {},
   "outputs": [],
   "source": [
    "# visualize the model, whatever you do here it is avaialble later in the script\n",
    "if '-nopopup' not in sys.argv:\n",
    "    gmsh.fltk.run()\n"
   ]
  },
  {
   "cell_type": "code",
   "execution_count": 43,
   "metadata": {},
   "outputs": [],
   "source": [
    "gmsh.write(\"t1.msh\")\n",
    "if False:\n",
    "    gmsh.finalize()"
   ]
  },
  {
   "cell_type": "markdown",
   "metadata": {},
   "source": [
    "# Tutorial 2: meshing of solids\n",
    "Here I mesh a step file using the occ module (feature like group-based selection of entities does not work)"
   ]
  },
  {
   "cell_type": "code",
   "execution_count": null,
   "metadata": {},
   "outputs": [],
   "source": [
    "import numpy as np\n",
    "import gmsh\n",
    "import sys\n",
    "import os\n",
    "import math\n",
    "\n",
    "# Initialize the Gmsh API\n",
    "gmsh.initialize()\n",
    "gmsh.model.add(\"t20\")\n",
    "gmsh.model.list()"
   ]
  },
  {
   "cell_type": "code",
   "execution_count": 2,
   "metadata": {},
   "outputs": [],
   "source": [
    "v = gmsh.model.occ.import_shapes(\"two_blocks.stp\")\n",
    "\n",
    "# remove matching entities\n",
    "gmsh.model.occ.remove_all_duplicates()\n",
    "\n",
    "# Finally, let's specify a global mesh size and mesh the partitioned model:\n",
    "gmsh.option.set_number(\"Mesh.MeshSizeMin\", 0.1)\n",
    "gmsh.option.set_number(\"Mesh.MeshSizeMax\", 0.2)"
   ]
  },
  {
   "cell_type": "code",
   "execution_count": 25,
   "metadata": {},
   "outputs": [],
   "source": [
    "p = gmsh.model.get_entities(1)"
   ]
  },
  {
   "cell_type": "code",
   "execution_count": null,
   "metadata": {},
   "outputs": [],
   "source": [
    "gmsh.model.occ.get_surface_loops(1),gmsh.model.occ.get_surface_loops(2)"
   ]
  },
  {
   "cell_type": "code",
   "execution_count": null,
   "metadata": {},
   "outputs": [],
   "source": [
    "gmsh.model.occ.get_matrix_of_inertia(3,2),gmsh.model.occ.get_matrix_of_inertia(3,1)"
   ]
  },
  {
   "cell_type": "code",
   "execution_count": null,
   "metadata": {},
   "outputs": [],
   "source": [
    "gmsh.model.occ.get_mass(3,2),gmsh.model.occ.get_mass(3,1)"
   ]
  },
  {
   "cell_type": "code",
   "execution_count": null,
   "metadata": {},
   "outputs": [],
   "source": [
    "gmsh.model.occ.get_center_of_mass(3,2),gmsh.model.occ.get_center_of_mass(3,1)"
   ]
  },
  {
   "cell_type": "code",
   "execution_count": null,
   "metadata": {},
   "outputs": [],
   "source": [
    "gmsh.model.add_physical_group(3, [1],name=\"my concave volume\")\n",
    "gmsh.model.add_physical_group(3, [2],name=\"my cube\")"
   ]
  },
  {
   "cell_type": "code",
   "execution_count": null,
   "metadata": {},
   "outputs": [],
   "source": [
    "gmsh.model.add_physical_group(2, [1,2,3],name=\"my surfaces\")"
   ]
  },
  {
   "cell_type": "code",
   "execution_count": null,
   "metadata": {},
   "outputs": [],
   "source": [
    "\n",
    "gmsh.model.occ.synchronize()\n",
    "\n",
    "gmsh.model.get_boundary([(3,1)], True, True, False),gmsh.model.get_boundary([(3,2)], True, True, False)"
   ]
  },
  {
   "cell_type": "code",
   "execution_count": null,
   "metadata": {},
   "outputs": [],
   "source": [
    "gmsh.model.get_physical_groups(-1)"
   ]
  },
  {
   "cell_type": "code",
   "execution_count": null,
   "metadata": {},
   "outputs": [],
   "source": [
    "gmsh.model.occ.mesh.set_size(p, 0.01)\n",
    "\n",
    "# this is to get structured meshes in 3d ... not clear how\n",
    "#gmsh.model.mesh.set_transfinite_volume(1,[])\n",
    "#gmsh.model.mesh.set_transfinite_volume(2,[])\n",
    "\n",
    "#gmsh.model.occ.synchronize()\n",
    "#gmsh.model.mesh.clear()\n",
    "\n",
    "# Finally, let's specify a global mesh size and mesh the partitioned model:\n",
    "gmsh.option.set_number(\"Mesh.MeshSizeMin\", 0.1)\n",
    "gmsh.option.set_number(\"Mesh.MeshSizeMax\", 0.2)\n",
    "\n",
    "gmsh.model.get_entities(2)"
   ]
  },
  {
   "cell_type": "code",
   "execution_count": null,
   "metadata": {},
   "outputs": [],
   "source": [
    "# Meshing algorithms can changed globally using options:\n",
    "#gmsh.option.set_number(\"Mesh.Algorithm\", 3)  # Frontal-Delaunay for 2D meshes\n",
    "\n",
    "# They can also be set for individual surfaces, e.g. for using `MeshAdapt' on\n",
    "# surface 1:\n",
    "#gmsh.model.mesh.set_algorithm(2,1,1)\n",
    "\n",
    "gmsh.model.mesh.generate(2)\n",
    "\n",
    "# get the nodes for the physical group (does not work with occ)\n",
    "nodeTags,nodeCoords = gmsh.model.mesh.get_nodes_for_physical_group(2,3)\n",
    "nodeTags,nodeCoords"
   ]
  },
  {
   "cell_type": "code",
   "execution_count": 70,
   "metadata": {},
   "outputs": [],
   "source": [
    "\n",
    "\n",
    "# visualize the model, whatever you do here it is avaialble later in the script\n",
    "if '-nopopup' not in sys.argv:\n",
    "    gmsh.fltk.run()\n"
   ]
  },
  {
   "cell_type": "markdown",
   "metadata": {},
   "source": [
    "# Tutorial 3: meshing of solids\n",
    "Here I mesh a step file using the geo module (it seems that it works much better than occ)."
   ]
  },
  {
   "cell_type": "code",
   "execution_count": 1,
   "metadata": {},
   "outputs": [],
   "source": [
    "import numpy as np\n",
    "import gmsh\n",
    "import sys\n",
    "import os\n",
    "import math\n",
    "\n",
    "# Initialize the Gmsh API\n",
    "gmsh.initialize()\n",
    "gmsh.model.add(\"t20\")\n",
    "gmsh.merge(\"two_blocks.stp\")"
   ]
  },
  {
   "cell_type": "code",
   "execution_count": 5,
   "metadata": {},
   "outputs": [],
   "source": [
    "# remove matching entities\n",
    "gmsh.model.geo.remove_all_duplicates()"
   ]
  },
  {
   "cell_type": "code",
   "execution_count": 3,
   "metadata": {},
   "outputs": [
    {
     "data": {
      "text/plain": [
       "2"
      ]
     },
     "execution_count": 3,
     "metadata": {},
     "output_type": "execute_result"
    }
   ],
   "source": [
    "gmsh.model.add_physical_group(3, [1],name=\"my concave volume\")\n",
    "gmsh.model.add_physical_group(3, [2],name=\"my cube\")"
   ]
  },
  {
   "cell_type": "code",
   "execution_count": 4,
   "metadata": {},
   "outputs": [
    {
     "data": {
      "text/plain": [
       "([(2, -1), (2, -2), (2, -3), (2, 4), (2, 5), (2, 6), (2, 7), (2, 8), (2, -9)],\n",
       " [(2, 10), (2, 11), (2, 12), (2, 13), (2, 14), (2, -15)])"
      ]
     },
     "execution_count": 4,
     "metadata": {},
     "output_type": "execute_result"
    }
   ],
   "source": [
    "gmsh.model.get_boundary([(3,1)], True, True, False),gmsh.model.get_boundary([(3,2)], True, True, False)"
   ]
  },
  {
   "cell_type": "code",
   "execution_count": 6,
   "metadata": {},
   "outputs": [
    {
     "data": {
      "text/plain": [
       "[(3, 1), (3, 2)]"
      ]
     },
     "execution_count": 6,
     "metadata": {},
     "output_type": "execute_result"
    }
   ],
   "source": [
    "gmsh.model.get_entities(3)"
   ]
  },
  {
   "cell_type": "code",
   "execution_count": 7,
   "metadata": {},
   "outputs": [
    {
     "data": {
      "text/plain": [
       "([(2, -1), (2, -2), (2, -3), (2, 4), (2, 5), (2, 6), (2, 7), (2, 8), (2, -9)],\n",
       " [(2, 10), (2, 11), (2, 12), (2, 13), (2, 14), (2, -15)])"
      ]
     },
     "execution_count": 7,
     "metadata": {},
     "output_type": "execute_result"
    }
   ],
   "source": [
    "gmsh.model.get_boundary([(3,1)], True, True, False),gmsh.model.get_boundary([(3,2)], True, True, False)"
   ]
  },
  {
   "cell_type": "code",
   "execution_count": 8,
   "metadata": {},
   "outputs": [
    {
     "data": {
      "text/plain": [
       "[(3, 1), (3, 2)]"
      ]
     },
     "execution_count": 8,
     "metadata": {},
     "output_type": "execute_result"
    }
   ],
   "source": [
    "# Finally, let's specify a global mesh size and mesh the partitioned model:\n",
    "gmsh.option.set_number(\"Mesh.MeshSizeMin\", 0.1)\n",
    "gmsh.option.set_number(\"Mesh.MeshSizeMax\", 0.2)\n",
    "\n",
    "gmsh.model.get_physical_groups(-1)"
   ]
  },
  {
   "cell_type": "code",
   "execution_count": 9,
   "metadata": {},
   "outputs": [],
   "source": [
    "gmsh.model.mesh.generate(3)"
   ]
  },
  {
   "cell_type": "code",
   "execution_count": 10,
   "metadata": {},
   "outputs": [
    {
     "data": {
      "text/plain": [
       "(array([    15,     16,     17, ..., 125858, 125859, 125860], dtype=uint64),\n",
       " array([ -5.        ,   6.        , -10.        , ...,  -6.26307658,\n",
       "         11.89122527,  -2.81773515]))"
      ]
     },
     "execution_count": 10,
     "metadata": {},
     "output_type": "execute_result"
    }
   ],
   "source": [
    "\n",
    "# get the nodes for the physical group (does not work with occ)\n",
    "nodeTags,nodeCoords = gmsh.model.mesh.get_nodes_for_physical_group(3,2)\n",
    "nodeTags,nodeCoords"
   ]
  },
  {
   "cell_type": "code",
   "execution_count": 11,
   "metadata": {},
   "outputs": [],
   "source": [
    "gmsh.model.geo.synchronize()\n",
    "\n",
    "# visualize the model, whatever you do here it is avaialble later in the script\n",
    "if '-nopopup' not in sys.argv:\n",
    "    gmsh.fltk.run()"
   ]
  }
 ],
 "metadata": {
  "kernelspec": {
   "display_name": "venv",
   "language": "python",
   "name": "python3"
  },
  "language_info": {
   "codemirror_mode": {
    "name": "ipython",
    "version": 3
   },
   "file_extension": ".py",
   "mimetype": "text/x-python",
   "name": "python",
   "nbconvert_exporter": "python",
   "pygments_lexer": "ipython3",
   "version": "3.11.9"
  }
 },
 "nbformat": 4,
 "nbformat_minor": 2
}
