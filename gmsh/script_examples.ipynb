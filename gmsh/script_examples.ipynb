{
 "cells": [
  {
   "cell_type": "markdown",
   "metadata": {},
   "source": [
    "# Tutorial #1"
   ]
  },
  {
   "cell_type": "code",
   "execution_count": null,
   "metadata": {},
   "outputs": [],
   "source": [
    "import numpy as np\n",
    "import gmsh\n",
    "import sys\n",
    "\n",
    "# Initialize the Gmsh API\n",
    "gmsh.initialize()\n",
    "gmsh.model.list()"
   ]
  },
  {
   "cell_type": "code",
   "execution_count": null,
   "metadata": {},
   "outputs": [],
   "source": [
    "gmsh.model.add(\"t1\")\n",
    "\n",
    "lc = 1e-2   \n",
    "\n",
    "# coordinates, meshsize, tag\n",
    "gmsh.model.geo.addPoint(0,   0, 0, lc, 1)\n",
    "gmsh.model.geo.addPoint(.1,  0, 0, lc, 2)\n",
    "gmsh.model.geo.addPoint(.1, .3, 0, lc, 3)\n",
    "p4 = gmsh.model.geo.addPoint(0, .3, 0, lc)\n",
    "\n",
    "gmsh.model.geo.addLine(1,2,1)\n",
    "gmsh.model.geo.addLine(3,2,2)\n",
    "gmsh.model.geo.addLine(3,p4,3)\n",
    "gmsh.model.geo.addLine(4,1,p4)\n",
    "\n",
    "# list of points, tag\n",
    "gmsh.model.geo.addCurveLoop([4,1,-2,3],1)\n"
   ]
  },
  {
   "cell_type": "code",
   "execution_count": 3,
   "metadata": {},
   "outputs": [],
   "source": [
    "# list of curvee loops, tag\n",
    "gmsh.model.geo.addPlaneSurface([1],1)\n",
    "gmsh.model.geo.synchronize()\n"
   ]
  },
  {
   "cell_type": "code",
   "execution_count": null,
   "metadata": {},
   "outputs": [],
   "source": [
    "gmsh.model"
   ]
  },
  {
   "cell_type": "code",
   "execution_count": null,
   "metadata": {},
   "outputs": [],
   "source": [
    "# dimension, list, tag\n",
    "gmsh.model.addPhysicalGroup(1, [1,2,4], 5)\n",
    "gmsh.model.addPhysicalGroup(2, [1], name=\"my surface\")"
   ]
  },
  {
   "cell_type": "code",
   "execution_count": 5,
   "metadata": {},
   "outputs": [],
   "source": [
    "gmsh.model.list()\n",
    "# to be sure you are still on the same model\n",
    "gmsh.model.setCurrent('t1')"
   ]
  },
  {
   "cell_type": "code",
   "execution_count": null,
   "metadata": {},
   "outputs": [],
   "source": [
    "\n",
    "# get the list of all 2D entities (dim)\n",
    "s = gmsh.model.getEntities(1)\n",
    "s"
   ]
  },
  {
   "cell_type": "code",
   "execution_count": null,
   "metadata": {},
   "outputs": [],
   "source": [
    "physical_groups = gmsh.model.getPhysicalGroups()\n",
    "physical_groups"
   ]
  },
  {
   "cell_type": "code",
   "execution_count": null,
   "metadata": {},
   "outputs": [],
   "source": [
    "# get the boundary of the entity (dim,tag) - combined, oriented, recursive (up to dim 0)\n",
    "b = gmsh.model.getBoundary([(2,1)], True, True, False)\n",
    "b"
   ]
  },
  {
   "cell_type": "code",
   "execution_count": null,
   "metadata": {},
   "outputs": [],
   "source": [
    "# adiacent entities (dim,tag) in the dim direction (superior dim and inferior dim)\n",
    "u,d = gmsh.model.getAdjacencies(2,1)\n",
    "u,d"
   ]
  },
  {
   "cell_type": "code",
   "execution_count": null,
   "metadata": {},
   "outputs": [],
   "source": [
    "# get the list of entities in the bounding box (xmin,ymin,zmin,xmax,ymax,zmax,dim), no dim means all\n",
    "gmsh.model.getEntitiesInBoundingBox(0.0,0.0,0.0,0.1,0.3,0.0,2)"
   ]
  },
  {
   "cell_type": "code",
   "execution_count": null,
   "metadata": {},
   "outputs": [],
   "source": [
    "# get the dimension of the model, that is, the maximum dimension of the entities\n",
    "gmsh.model.getDimension()"
   ]
  },
  {
   "cell_type": "code",
   "execution_count": 12,
   "metadata": {},
   "outputs": [],
   "source": [
    "if False:\n",
    "    # remove a list of entities; if recursive is True, all the entities that depend on the entities in the list are removed\n",
    "    gmsh.model.removeEntities([(2,1)],False)\n",
    "    gmsh.model.getEntities(1),gmsh.model.getEntities(2)"
   ]
  },
  {
   "cell_type": "code",
   "execution_count": null,
   "metadata": {},
   "outputs": [],
   "source": [
    "# get the type of an entity\n",
    "gmsh.model.getType(1,1)"
   ]
  },
  {
   "cell_type": "code",
   "execution_count": null,
   "metadata": {},
   "outputs": [],
   "source": [
    "# parent of a partitioned model\n",
    "gmsh.model.getParent(1,1)"
   ]
  },
  {
   "cell_type": "code",
   "execution_count": null,
   "metadata": {},
   "outputs": [],
   "source": [
    "# get the coordinate of the mid-point of a curve\n",
    "lb,ub = gmsh.model.getParametrizationBounds(1, 1)\n",
    "lb[0],ub[0]\n"
   ]
  },
  {
   "cell_type": "code",
   "execution_count": null,
   "metadata": {},
   "outputs": [],
   "source": [
    "# get the point on an entity that is closet to a given point\n",
    "gmsh.model.getClosestPoint(1,1,[.1,2.0,0.])"
   ]
  },
  {
   "cell_type": "code",
   "execution_count": null,
   "metadata": {},
   "outputs": [],
   "source": [
    "# get the coordinate of the point at the given parametrization location\n",
    "coord = gmsh.model.getValue(1,1,[(lb[0]+ub[0])/2])\n",
    "coord "
   ]
  },
  {
   "cell_type": "code",
   "execution_count": null,
   "metadata": {},
   "outputs": [],
   "source": [
    "# get the parametrization location of the given point\n",
    "param = gmsh.model.getParametrization(1,1,coord)\n",
    "param"
   ]
  },
  {
   "cell_type": "code",
   "execution_count": null,
   "metadata": {},
   "outputs": [],
   "source": [
    "# the third argument is a list of coordinates\n",
    "gmsh.model.getDerivative(1,1,[(lb[0]+ub[0])/2])\n"
   ]
  },
  {
   "cell_type": "code",
   "execution_count": null,
   "metadata": {},
   "outputs": [],
   "source": [
    "# the third argument is a list of coordinates\n",
    "gmsh.model.getSecondDerivative(1,1,[(lb[0]+ub[0])/2])"
   ]
  },
  {
   "cell_type": "code",
   "execution_count": null,
   "metadata": {},
   "outputs": [],
   "source": [
    "# the third argument is a list of coordinates\n",
    "gmsh.model.getCurvature(1,1,[(lb[0]+ub[0])/2])"
   ]
  },
  {
   "cell_type": "code",
   "execution_count": null,
   "metadata": {},
   "outputs": [],
   "source": [
    "# set the visibility of a list of entities recursively\n",
    "gmsh.model.setVisibility([(1,1)],1,True)\n",
    "gmsh.model.getVisibility(1,1)"
   ]
  },
  {
   "cell_type": "code",
   "execution_count": 23,
   "metadata": {},
   "outputs": [],
   "source": [
    "gmsh.model.setColor([(1,1)],0,255,255,255,True)"
   ]
  },
  {
   "cell_type": "code",
   "execution_count": 31,
   "metadata": {},
   "outputs": [],
   "source": [
    "attrs = gmsh.model.getAttributeNames()\n",
    "for attr in attrs:\n",
    "    print(attr)\n",
    "    print(gmsh.model.getAttribute(1,1,attr))"
   ]
  },
  {
   "cell_type": "code",
   "execution_count": 34,
   "metadata": {},
   "outputs": [],
   "source": [
    "# generate a 2d mesh\n",
    "gmsh.model.mesh.generate(2)"
   ]
  },
  {
   "cell_type": "code",
   "execution_count": 38,
   "metadata": {},
   "outputs": [],
   "source": [
    "# partitione the mesh in 4 groups\n",
    "gmsh.model.mesh.partition(4)"
   ]
  },
  {
   "cell_type": "code",
   "execution_count": 42,
   "metadata": {},
   "outputs": [],
   "source": [
    "# visualize the model, whatever you do here it is avaialble later in the script\n",
    "if '-nopopup' not in sys.argv:\n",
    "    gmsh.fltk.run()\n"
   ]
  },
  {
   "cell_type": "code",
   "execution_count": 43,
   "metadata": {},
   "outputs": [],
   "source": [
    "gmsh.write(\"t1.msh\")\n",
    "if False:\n",
    "    gmsh.finalize()"
   ]
  },
  {
   "cell_type": "markdown",
   "metadata": {},
   "source": [
    "# Dogbone"
   ]
  },
  {
   "cell_type": "code",
   "execution_count": 1,
   "metadata": {},
   "outputs": [],
   "source": [
    "import numpy as np\n",
    "import gmsh\n",
    "import sys\n",
    "\n",
    "# Initialize the Gmsh API\n",
    "gmsh.initialize()\n",
    "gmsh.model.list()\n",
    "gmsh.model.add(\"dogbone\")\n",
    "\n",
    "# meshsize\n",
    "lc = 2.0\n",
    "\n",
    "# coordinates, meshsize, tag\n",
    "gmsh.model.geo.add_point(0 ,0,0,lc,1)\n",
    "gmsh.model.geo.add_point(60,0,0,lc,2)\n",
    "gmsh.model.geo.add_point(60,20,0,lc,3)\n",
    "gmsh.model.geo.add_point(60,30,0,lc,4)\n",
    "gmsh.model.geo.add_point(50,30,0,lc,5)\n",
    "gmsh.model.geo.add_point(50,110,0,lc,6)\n",
    "gmsh.model.geo.add_point(60,110,0,lc,7)\n",
    "gmsh.model.geo.add_point(60,120,0,lc,8)\n",
    "gmsh.model.geo.add_point(60,140,0,lc,9)\n",
    "gmsh.model.geo.add_point(0,140,0,lc,10)\n",
    "gmsh.model.geo.add_point(0,120,0,lc,11)\n",
    "gmsh.model.geo.add_point(0,110,0,lc,12)\n",
    "gmsh.model.geo.add_point(10,110,0,lc,13)\n",
    "gmsh.model.geo.add_point(10,30,0,lc,14)\n",
    "gmsh.model.geo.add_point(0,30,0,lc,15)\n",
    "gmsh.model.geo.add_point(0,20,0,lc,16)\n",
    "\n",
    "gmsh.model.geo.add_line(1,2,1)\n",
    "gmsh.model.geo.add_line(2,3,2)\n",
    "gmsh.model.geo.add_circle_arc(3,4,5,3)\n",
    "gmsh.model.geo.add_line(5,6,4)\n",
    "gmsh.model.geo.add_circle_arc(6,7,8,5)\n",
    "gmsh.model.geo.add_line(8,9,6)\n",
    "gmsh.model.geo.add_line(9,10,7)\n",
    "gmsh.model.geo.add_line(10,11,8)\n",
    "gmsh.model.geo.add_circle_arc(11,12,13,9)\n",
    "gmsh.model.geo.add_line(13,14,10)\n",
    "gmsh.model.geo.add_circle_arc(14,15,16,11)\n",
    "gmsh.model.geo.add_line(16,1,12)\n",
    "\n",
    "# list of points, tag\n",
    "gmsh.model.geo.add_curve_loop([1,2,3,4,5,6,7,8,9,10,11,12],1)\n",
    "\n",
    "# list of curvee loops, tag\n",
    "gmsh.model.geo.add_plane_surface([1],1)\n",
    "\n",
    "# dimension, list, tag\n",
    "gmsh.model.add_physical_group(1, [1], name=\"constrained edge\")\n",
    "gmsh.model.add_physical_group(1, [7], name=\"load edge\")\n",
    "\n",
    "# Synchronize the model to build the geometry\n",
    "gmsh.model.geo.synchronize()"
   ]
  },
  {
   "cell_type": "code",
   "execution_count": 12,
   "metadata": {},
   "outputs": [
    {
     "data": {
      "text/plain": [
       "([(1, 1), (1, 2)], [array([1], dtype=int32), array([7], dtype=int32)])"
      ]
     },
     "execution_count": 12,
     "metadata": {},
     "output_type": "execute_result"
    }
   ],
   "source": [
    "physical_groups = gmsh.model.getPhysicalGroups()\n",
    "\n",
    "physical_groups_entities = []\n",
    "for physical_group in physical_groups:\n",
    "    physical_groups_entities.append(gmsh.model.getEntitiesForPhysicalGroup(physical_group[0],physical_group[1]))\n",
    "\n",
    "physical_groups,physical_groups_entities\n"
   ]
  },
  {
   "cell_type": "code",
   "execution_count": 14,
   "metadata": {},
   "outputs": [],
   "source": [
    "for physical_groups_entitie in physical_groups_entities:\n",
    "    gmsh.model.setColor([(1,physical_groups_entitie[0])],0,255,255,255,True)\n"
   ]
  },
  {
   "cell_type": "code",
   "execution_count": 15,
   "metadata": {},
   "outputs": [],
   "source": [
    "# generate a 2d mesh\n",
    "gmsh.model.mesh.generate(2)"
   ]
  },
  {
   "cell_type": "code",
   "execution_count": 21,
   "metadata": {},
   "outputs": [],
   "source": [
    "\n",
    "# Synchronize the model to build the geometry\n",
    "gmsh.model.geo.synchronize()\n",
    "\n",
    "# visualize the model, whatever you do here it is avaialble later in the script\n",
    "if '-nopopup' not in sys.argv:\n",
    "    gmsh.fltk.run()"
   ]
  },
  {
   "cell_type": "code",
   "execution_count": 20,
   "metadata": {},
   "outputs": [
    {
     "data": {
      "text/plain": [
       "3"
      ]
     },
     "execution_count": 20,
     "metadata": {},
     "output_type": "execute_result"
    }
   ],
   "source": [
    "gmsh.model.add_physical_group(2, [1], name=\"dogbone surface\")\n"
   ]
  },
  {
   "cell_type": "code",
   "execution_count": null,
   "metadata": {},
   "outputs": [],
   "source": []
  }
 ],
 "metadata": {
  "kernelspec": {
   "display_name": "venv",
   "language": "python",
   "name": "python3"
  },
  "language_info": {
   "codemirror_mode": {
    "name": "ipython",
    "version": 3
   },
   "file_extension": ".py",
   "mimetype": "text/x-python",
   "name": "python",
   "nbconvert_exporter": "python",
   "pygments_lexer": "ipython3",
   "version": "3.11.9"
  }
 },
 "nbformat": 4,
 "nbformat_minor": 2
}
