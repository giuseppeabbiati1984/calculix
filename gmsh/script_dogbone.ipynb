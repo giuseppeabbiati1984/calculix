{
 "cells": [
  {
   "cell_type": "markdown",
   "metadata": {},
   "source": [
    "# Dogbone"
   ]
  },
  {
   "cell_type": "code",
   "execution_count": 1,
   "metadata": {},
   "outputs": [],
   "source": [
    "import numpy as np\n",
    "import gmsh\n",
    "import sys\n",
    "\n",
    "# Initialize the Gmsh API\n",
    "gmsh.initialize()\n",
    "gmsh.model.list()\n",
    "gmsh.model.add(\"dogbone\")\n",
    "\n",
    "# meshsize\n",
    "lc = 2.0\n",
    "\n",
    "# coordinates, meshsize, tag\n",
    "gmsh.model.geo.add_point(0 ,0,0,lc,1)\n",
    "gmsh.model.geo.add_point(60,0,0,lc,2)\n",
    "gmsh.model.geo.add_point(60,20,0,lc,3)\n",
    "gmsh.model.geo.add_point(60,30,0,lc,4)\n",
    "gmsh.model.geo.add_point(50,30,0,lc,5)\n",
    "gmsh.model.geo.add_point(50,110,0,lc,6)\n",
    "gmsh.model.geo.add_point(60,110,0,lc,7)\n",
    "gmsh.model.geo.add_point(60,120,0,lc,8)\n",
    "gmsh.model.geo.add_point(60,140,0,lc,9)\n",
    "gmsh.model.geo.add_point(0,140,0,lc,10)\n",
    "gmsh.model.geo.add_point(0,120,0,lc,11)\n",
    "gmsh.model.geo.add_point(0,110,0,lc,12)\n",
    "gmsh.model.geo.add_point(10,110,0,lc,13)\n",
    "gmsh.model.geo.add_point(10,30,0,lc,14)\n",
    "gmsh.model.geo.add_point(0,30,0,lc,15)\n",
    "gmsh.model.geo.add_point(0,20,0,lc,16)\n",
    "\n",
    "gmsh.model.geo.add_line(1,2,1)\n",
    "gmsh.model.geo.add_line(2,3,2)\n",
    "gmsh.model.geo.add_circle_arc(3,4,5,3)\n",
    "gmsh.model.geo.add_line(5,6,4)\n",
    "gmsh.model.geo.add_circle_arc(6,7,8,5)\n",
    "gmsh.model.geo.add_line(8,9,6)\n",
    "gmsh.model.geo.add_line(9,10,7)\n",
    "gmsh.model.geo.add_line(10,11,8)\n",
    "gmsh.model.geo.add_circle_arc(11,12,13,9)\n",
    "gmsh.model.geo.add_line(13,14,10)\n",
    "gmsh.model.geo.add_circle_arc(14,15,16,11)\n",
    "gmsh.model.geo.add_line(16,1,12)\n",
    "\n",
    "# list of points, tag\n",
    "gmsh.model.geo.add_curve_loop([1,2,3,4,5,6,7,8,9,10,11,12],1)\n",
    "\n",
    "# list of curvee loops, tag\n",
    "gmsh.model.geo.add_plane_surface([1],1)\n",
    "\n",
    "# dimension, list, tag\n",
    "gmsh.model.add_physical_group(1, [1], name=\"constrained edge\")\n",
    "gmsh.model.add_physical_group(1, [7], name=\"load edge\")\n",
    "gmsh.model.add_physical_group(2, [1], name=\"dogbone surface\")\n",
    "\n",
    "\n",
    "gmsh.model.setColor([(1,1)],0,255,255,255,True)\n",
    "gmsh.model.setColor([(1,7)],255,0,255,255,True)\n",
    "gmsh.model.setColor([(2,1)],255,255,0,255,True)\n",
    "\n",
    "# Synchronize the model to build the geometry\n",
    "gmsh.model.geo.synchronize()"
   ]
  },
  {
   "cell_type": "code",
   "execution_count": 3,
   "metadata": {},
   "outputs": [],
   "source": [
    "# generate a 2d mesh\n",
    "gmsh.model.mesh.generate(2)\n",
    "\n",
    "# partitioned the mesh\n",
    "gmsh.model.mesh.partition(4)"
   ]
  },
  {
   "cell_type": "code",
   "execution_count": 5,
   "metadata": {},
   "outputs": [],
   "source": [
    "\n",
    "# Synchronize the model to build the geometry\n",
    "gmsh.model.geo.synchronize()\n",
    "\n",
    "# visualize the model, whatever you do here it is avaialble later in the script\n",
    "if '-nopopup' not in sys.argv:\n",
    "    gmsh.fltk.run()"
   ]
  },
  {
   "cell_type": "code",
   "execution_count": 30,
   "metadata": {},
   "outputs": [
    {
     "name": "stdout",
     "output_type": "stream",
     "text": [
      "('Line 2', 1, 1, 2, array([-1.,  1.]), 2)\n",
      "('Triangle 3', 2, 1, 3, array([0., 0., 1., 0., 0., 1.]), 3)\n",
      "('Point', 0, 0, 1, array([0.]), 1)\n"
     ]
    }
   ],
   "source": [
    "# get the list of elements\n",
    "elementTypes, elementTags, nodeTags = gmsh.model.mesh.get_elements(-1,-1)  \n",
    "\n",
    "# show the properties for each time\n",
    "for elementType in elementTypes:\n",
    "    print(gmsh.model.mesh.get_element_properties(elementType))"
   ]
  },
  {
   "cell_type": "code",
   "execution_count": null,
   "metadata": {},
   "outputs": [],
   "source": []
  }
 ],
 "metadata": {
  "kernelspec": {
   "display_name": "venv",
   "language": "python",
   "name": "python3"
  },
  "language_info": {
   "codemirror_mode": {
    "name": "ipython",
    "version": 3
   },
   "file_extension": ".py",
   "mimetype": "text/x-python",
   "name": "python",
   "nbconvert_exporter": "python",
   "pygments_lexer": "ipython3",
   "version": "3.11.9"
  }
 },
 "nbformat": 4,
 "nbformat_minor": 2
}
