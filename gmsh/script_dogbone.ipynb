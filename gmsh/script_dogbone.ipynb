{
 "cells": [
  {
   "cell_type": "markdown",
   "metadata": {},
   "source": [
    "# Dogbone specimen\n",
    "This script generate the mesh for the dogbone specimen taken described in [Ambati, M., T. Gerasimov, and L. De Lorenzis. “Phase-Field Modeling of Ductile Fracture.” Computational Mechanics 55(5) (2015): 1017–40](https://doi.org/10.1007/s00466-015-1151-4)."
   ]
  },
  {
   "cell_type": "code",
   "execution_count": 1,
   "metadata": {},
   "outputs": [],
   "source": [
    "import numpy as np\n",
    "import gmsh\n",
    "import sys\n",
    "\n",
    "# Initialize the Gmsh API\n",
    "gmsh.initialize()\n",
    "gmsh.model.list()\n",
    "gmsh.model.add(\"dogbone\")\n",
    "\n",
    "# meshsize\n",
    "lc = 2.0\n",
    "\n",
    "# coordinates, meshsize, tag\n",
    "gmsh.model.geo.add_point(0 ,0,0,lc,1)\n",
    "gmsh.model.geo.add_point(60,0,0,lc,2)\n",
    "gmsh.model.geo.add_point(60,20,0,lc,3)\n",
    "gmsh.model.geo.add_point(60,30,0,lc,4)\n",
    "gmsh.model.geo.add_point(50,30,0,lc,5)\n",
    "gmsh.model.geo.add_point(50,110,0,lc,6)\n",
    "gmsh.model.geo.add_point(60,110,0,lc,7)\n",
    "gmsh.model.geo.add_point(60,120,0,lc,8)\n",
    "gmsh.model.geo.add_point(60,140,0,lc,9)\n",
    "gmsh.model.geo.add_point(0,140,0,lc,10)\n",
    "gmsh.model.geo.add_point(0,120,0,lc,11)\n",
    "gmsh.model.geo.add_point(0,110,0,lc,12)\n",
    "gmsh.model.geo.add_point(10,110,0,lc,13)\n",
    "gmsh.model.geo.add_point(10,30,0,lc,14)\n",
    "gmsh.model.geo.add_point(0,30,0,lc,15)\n",
    "gmsh.model.geo.add_point(0,20,0,lc,16)\n",
    "\n",
    "gmsh.model.geo.add_line(1,2,1)\n",
    "gmsh.model.geo.add_line(2,3,2)\n",
    "gmsh.model.geo.add_circle_arc(3,4,5,3)\n",
    "gmsh.model.geo.add_line(5,6,4)\n",
    "gmsh.model.geo.add_circle_arc(6,7,8,5)\n",
    "gmsh.model.geo.add_line(8,9,6)\n",
    "gmsh.model.geo.add_line(9,10,7)\n",
    "gmsh.model.geo.add_line(10,11,8)\n",
    "gmsh.model.geo.add_circle_arc(11,12,13,9)\n",
    "gmsh.model.geo.add_line(13,14,10)\n",
    "gmsh.model.geo.add_circle_arc(14,15,16,11)\n",
    "gmsh.model.geo.add_line(16,1,12)\n",
    "\n",
    "# list of points, tag\n",
    "gmsh.model.geo.add_curve_loop([1,2,3,4,5,6,7,8,9,10,11,12],1)\n",
    "\n",
    "# list of curvee loops, tag\n",
    "gmsh.model.geo.add_plane_surface([1],1)\n",
    "\n",
    "# dim, tag, anem\n",
    "gmsh.model.add_physical_group(1, [1], name=\"constrained edge\")\n",
    "gmsh.model.add_physical_group(1, [7], name=\"load edge\")\n",
    "gmsh.model.add_physical_group(2, [1], name=\"dogbone surface\")\n",
    "\n",
    "# here we change the colors of some of the entities\n",
    "gmsh.model.setColor([(1,1)],0,255,255,255,True)\n",
    "gmsh.model.setColor([(1,7)],255,0,255,255,True)\n",
    "gmsh.model.setColor([(2,1)],255,255,0,255,True)\n",
    "\n",
    "# Synchronize the model to build the geometry\n",
    "gmsh.model.geo.synchronize()"
   ]
  },
  {
   "cell_type": "code",
   "execution_count": 2,
   "metadata": {},
   "outputs": [],
   "source": [
    "# generate a 2d mesh\n",
    "gmsh.model.mesh.generate(2)\n",
    "\n",
    "# partitioned the mesh\n",
    "gmsh.model.mesh.partition(4)"
   ]
  },
  {
   "cell_type": "code",
   "execution_count": 3,
   "metadata": {},
   "outputs": [],
   "source": [
    "\n",
    "# Synchronize the model to build the geometry\n",
    "gmsh.model.geo.synchronize()\n",
    "\n",
    "# visualize the model, whatever you do here it is avaialble later in the script\n",
    "if '-nopopup' not in sys.argv:\n",
    "    gmsh.fltk.run()"
   ]
  },
  {
   "cell_type": "code",
   "execution_count": 4,
   "metadata": {},
   "outputs": [
    {
     "name": "stdout",
     "output_type": "stream",
     "text": [
      "('Line 2', 1, 1, 2, array([-1.,  1.]), 2)\n",
      "('Triangle 3', 2, 1, 3, array([0., 0., 1., 0., 0., 1.]), 3)\n",
      "('Point', 0, 0, 1, array([0.]), 1)\n"
     ]
    }
   ],
   "source": [
    "# get the list of elements\n",
    "elementTypes, elementTags, nodeTags = gmsh.model.mesh.get_elements(-1,-1)  \n",
    "\n",
    "# show the properties for each time\n",
    "for elementType in elementTypes:\n",
    "    print(gmsh.model.mesh.get_element_properties(elementType))"
   ]
  },
  {
   "cell_type": "code",
   "execution_count": 5,
   "metadata": {},
   "outputs": [],
   "source": [
    "nodeTags, nodeCoords, nodeParams = gmsh.model.mesh.get_nodes(-1,-1)"
   ]
  },
  {
   "cell_type": "code",
   "execution_count": 19,
   "metadata": {},
   "outputs": [
    {
     "name": "stdout",
     "output_type": "stream",
     "text": [
      "[(1, 1), (1, 2), (2, 3)]\n"
     ]
    },
    {
     "data": {
      "text/plain": [
       "((2048,), (2048,))"
      ]
     },
     "execution_count": 19,
     "metadata": {},
     "output_type": "execute_result"
    }
   ],
   "source": [
    "print(gmsh.model.get_physical_groups())\n",
    "\n",
    "# get the nodes for the physical group\n",
    "nodeTags,nodeCoords = gmsh.model.mesh.get_nodes_for_physical_group(2,3)\n",
    "nodeTags.shape,nodeCoords[2::3].shape\n",
    "\n"
   ]
  },
  {
   "cell_type": "code",
   "execution_count": 23,
   "metadata": {},
   "outputs": [],
   "source": [
    "# here is how to plot results on gmsh\n",
    "t1 = gmsh.view.add(\"Continuous\")\n",
    "for step in range(0, 10):\n",
    "    gmsh.view.addHomogeneousModelData(\n",
    "        t1, step, \"dogbone\", \"NodeData\",\n",
    "        nodeTags,  # tags of nodes\n",
    "        nodeCoords[1::3]/1000)  # data, per node\n",
    "    \n",
    "gmsh.view.write(t1, \"x4_t1.msh\")\n",
    "\n",
    "# Launch the GUI to see the results:\n",
    "if '-nopopup' not in sys.argv:\n",
    "    gmsh.fltk.run()\n",
    "\n",
    "#gmsh.finalize()\n"
   ]
  },
  {
   "cell_type": "code",
   "execution_count": null,
   "metadata": {},
   "outputs": [],
   "source": [
    "nodeCoordsMat = np.reshape(nodeCoords,(-1,3))\n",
    "nodeCoordsMat2 = np.unique(nodeCoordsMat,axis=0)\n",
    "nodeCoordsMat.shape,nodeCoordsMat2.shape"
   ]
  },
  {
   "cell_type": "code",
   "execution_count": 27,
   "metadata": {},
   "outputs": [],
   "source": [
    "# Step 3: Save the array to a CSV file\n",
    "np.savetxt('nodeCoordsMat.csv', nodeCoordsMat, delimiter=',')"
   ]
  },
  {
   "cell_type": "code",
   "execution_count": 1,
   "metadata": {},
   "outputs": [],
   "source": [
    "import gmsh\n",
    "import sys\n",
    "\n",
    "gmsh.initialize(sys.argv)\n",
    "\n",
    "# Contrary to list-based view (see `x3.py'), model-based views are based on one\n",
    "# or more meshes. Compared to list-based views, they are thus linked to one\n",
    "# model (per step). Post-processing data stored in MSH files create such\n",
    "# model-based views.\n",
    "\n",
    "# Let's create a first model-based view using a simple mesh constructed by\n",
    "# hand. We create a model with a discrete surface\n",
    "gmsh.model.add(\"simple model\")\n",
    "surf = gmsh.model.addDiscreteEntity(2)\n",
    "\n",
    "# We add 4 nodes and 2 3-node triangles (element type \"2\")\n",
    "gmsh.model.mesh.addNodes(2, surf, [1, 2, 3, 4],\n",
    "                         [0., 0., 0., 1., 0., 0., 1., 1., 0., 0., 1., 0.])\n",
    "gmsh.model.mesh.addElementsByType(surf, 2, [1, 2], [1, 2, 3, 1, 3, 4])\n",
    "\n",
    "# We can now create a new model-based view, to which we add 10 steps of\n",
    "# node-based data:\n",
    "t1 = gmsh.view.add(\"Continuous\")\n",
    "for step in range(0, 10):\n",
    "    gmsh.view.addHomogeneousModelData(\n",
    "        t1, step, \"simple model\", \"NodeData\",\n",
    "        [1, 2, 3, 4],  # tags of nodes\n",
    "        [10., 10., 12. + step, 13. + step])  # data, per node\n",
    "\n",
    "# Besided node-based data, which result in continuous fields, one can also add\n",
    "# general discontinous fields defined at the nodes of each element, using\n",
    "# \"ElementNodeData\":\n",
    "t2 = gmsh.view.add(\"Discontinuous\")\n",
    "for step in range(0, 10):\n",
    "    gmsh.view.addHomogeneousModelData(\n",
    "        t2, step, \"simple model\", \"ElementNodeData\",\n",
    "        [1, 2],  # tags of elements\n",
    "        [10., 10., 12. + step, 14., 15., 13. + step])  # data per element nodes\n",
    "\n",
    "# Constant per element datasets can also be created using \"ElementData\". Note\n",
    "# that a more general function `addModelData' to add data for hybrid meshes\n",
    "# (when data is not homogeneous, i.e. when the number of nodes changes between\n",
    "# elements) is also available.\n",
    "\n",
    "# Each step of a model-based view can be defined on a different model, i.e. on a\n",
    "# different mesh. Let's define a second model and mesh it\n",
    "gmsh.model.add(\"another model\")\n",
    "gmsh.model.occ.addBox(0, 0, 0, 1, 1, 1)\n",
    "gmsh.model.occ.synchronize()\n",
    "gmsh.model.mesh.generate(3)\n",
    "\n",
    "# We can add other steps to view \"t\" based on this new mesh:\n",
    "nodes, coord, _ = gmsh.model.mesh.getNodes()\n",
    "for step in range(11, 20):\n",
    "    gmsh.view.addHomogeneousModelData(\n",
    "        t1, step, \"another model\", \"NodeData\", nodes,\n",
    "        [step * coord[i] for i in range(0, len(coord), 3)])\n",
    "\n",
    "# This feature allows to create seamless animations for time-dependent datasets\n",
    "# on deforming or remeshed models.\n",
    "\n",
    "# High-order node-based datasets are supported without needing to supply the\n",
    "# interpolation matrices (iso-parametric Lagrange elements). Arbitrary\n",
    "# high-order datasets can be specified as \"ElementNodeData\", with the\n",
    "# interpolation matrices specified in the same as as for list-based views (see\n",
    "# `x3.py').\n",
    "\n",
    "# Model-based views can be saved to disk using `gmsh.view.write()'; note that\n",
    "# saving a view based on multiple meshes (like the view `t1') will automatically\n",
    "# create several files. If the `PostProcessing.SaveMesh' option is not set,\n",
    "# `gmsh.view.write()' will only save the view data, without the mesh (which\n",
    "# could be saved independently with `gmsh.write()').\n",
    "gmsh.view.write(t1, \"x4_t1.msh\")\n",
    "gmsh.view.write(t2, \"x4_t2.msh\")\n",
    "\n",
    "# Launch the GUI to see the results:\n",
    "if '-nopopup' not in sys.argv:\n",
    "    gmsh.fltk.run()\n",
    "\n",
    "gmsh.finalize()\n"
   ]
  }
 ],
 "metadata": {
  "kernelspec": {
   "display_name": "venv",
   "language": "python",
   "name": "python3"
  },
  "language_info": {
   "codemirror_mode": {
    "name": "ipython",
    "version": 3
   },
   "file_extension": ".py",
   "mimetype": "text/x-python",
   "name": "python",
   "nbconvert_exporter": "python",
   "pygments_lexer": "ipython3",
   "version": "3.11.3"
  }
 },
 "nbformat": 4,
 "nbformat_minor": 2
}
