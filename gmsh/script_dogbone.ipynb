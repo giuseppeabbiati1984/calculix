{
 "cells": [
  {
   "cell_type": "markdown",
   "metadata": {},
   "source": [
    "# Dogbone specimen\n",
    "This script generate the mesh for the dogbone specimen taken described in [Ambati, M., T. Gerasimov, and L. De Lorenzis. “Phase-Field Modeling of Ductile Fracture.” Computational Mechanics 55(5) (2015): 1017–40](https://doi.org/10.1007/s00466-015-1151-4)."
   ]
  },
  {
   "cell_type": "code",
   "execution_count": 31,
   "metadata": {},
   "outputs": [],
   "source": [
    "import numpy as np\n",
    "import gmsh\n",
    "import sys\n",
    "\n",
    "# Initialize the Gmsh API\n",
    "gmsh.initialize()\n",
    "gmsh.model.list()\n",
    "gmsh.model.add(\"dogbone\")\n",
    "\n",
    "# meshsize\n",
    "lc = 2.0\n",
    "\n",
    "# coordinates, meshsize, tag\n",
    "gmsh.model.geo.add_point(0 ,0,0,lc,1)\n",
    "gmsh.model.geo.add_point(60,0,0,lc,2)\n",
    "gmsh.model.geo.add_point(60,20,0,lc,3)\n",
    "gmsh.model.geo.add_point(60,30,0,lc,4)\n",
    "gmsh.model.geo.add_point(50,30,0,lc,5)\n",
    "gmsh.model.geo.add_point(50,110,0,lc,6)\n",
    "gmsh.model.geo.add_point(60,110,0,lc,7)\n",
    "gmsh.model.geo.add_point(60,120,0,lc,8)\n",
    "gmsh.model.geo.add_point(60,140,0,lc,9)\n",
    "gmsh.model.geo.add_point(0,140,0,lc,10)\n",
    "gmsh.model.geo.add_point(0,120,0,lc,11)\n",
    "gmsh.model.geo.add_point(0,110,0,lc,12)\n",
    "gmsh.model.geo.add_point(10,110,0,lc,13)\n",
    "gmsh.model.geo.add_point(10,30,0,lc,14)\n",
    "gmsh.model.geo.add_point(0,30,0,lc,15)\n",
    "gmsh.model.geo.add_point(0,20,0,lc,16)\n",
    "\n",
    "gmsh.model.geo.add_line(1,2,1)\n",
    "gmsh.model.geo.add_line(2,3,2)\n",
    "gmsh.model.geo.add_circle_arc(3,4,5,3)\n",
    "gmsh.model.geo.add_line(5,6,4)\n",
    "gmsh.model.geo.add_circle_arc(6,7,8,5)\n",
    "gmsh.model.geo.add_line(8,9,6)\n",
    "gmsh.model.geo.add_line(9,10,7)\n",
    "gmsh.model.geo.add_line(10,11,8)\n",
    "gmsh.model.geo.add_circle_arc(11,12,13,9)\n",
    "gmsh.model.geo.add_line(13,14,10)\n",
    "gmsh.model.geo.add_circle_arc(14,15,16,11)\n",
    "gmsh.model.geo.add_line(16,1,12)\n",
    "\n",
    "# list of points, tag\n",
    "gmsh.model.geo.add_curve_loop([1,2,3,4,5,6,7,8,9,10,11,12],1)\n",
    "\n",
    "# list of curvee loops, tag\n",
    "gmsh.model.geo.add_plane_surface([1],1)\n",
    "\n",
    "# dim, tag, anem\n",
    "gmsh.model.add_physical_group(1, [1], name=\"constrained edge\")\n",
    "gmsh.model.add_physical_group(1, [7], name=\"load edge\")\n",
    "gmsh.model.add_physical_group(2, [1], name=\"dogbone surface\")\n",
    "\n",
    "# here we change the colors of some of the entities\n",
    "gmsh.model.setColor([(1,1)],0,255,255,255,True)\n",
    "gmsh.model.setColor([(1,7)],255,0,255,255,True)\n",
    "gmsh.model.setColor([(2,1)],255,255,0,255,True)\n",
    "\n",
    "# Synchronize the model to build the geometry\n",
    "gmsh.model.geo.synchronize()"
   ]
  },
  {
   "cell_type": "code",
   "execution_count": 32,
   "metadata": {},
   "outputs": [],
   "source": [
    "# generate a 2d mesh\n",
    "gmsh.model.mesh.generate(2)\n",
    "\n",
    "# partitioned the mesh\n",
    "gmsh.model.mesh.partition(4)"
   ]
  },
  {
   "cell_type": "code",
   "execution_count": 33,
   "metadata": {},
   "outputs": [],
   "source": [
    "\n",
    "# Synchronize the model to build the geometry\n",
    "gmsh.model.geo.synchronize()\n",
    "\n",
    "# visualize the model, whatever you do here it is avaialble later in the script\n",
    "if '-nopopup' not in sys.argv:\n",
    "    gmsh.fltk.run()"
   ]
  },
  {
   "cell_type": "code",
   "execution_count": 34,
   "metadata": {},
   "outputs": [
    {
     "name": "stdout",
     "output_type": "stream",
     "text": [
      "('Line 2', 1, 1, 2, array([-1.,  1.]), 2)\n",
      "('Triangle 3', 2, 1, 3, array([0., 0., 1., 0., 0., 1.]), 3)\n",
      "('Point', 0, 0, 1, array([0.]), 1)\n"
     ]
    }
   ],
   "source": [
    "# get the list of elements\n",
    "elementTypes, elementTags, nodeTags = gmsh.model.mesh.get_elements(-1,-1)  \n",
    "\n",
    "# show the properties for each time\n",
    "for elementType in elementTypes:\n",
    "    print(gmsh.model.mesh.get_element_properties(elementType))"
   ]
  },
  {
   "cell_type": "code",
   "execution_count": 35,
   "metadata": {},
   "outputs": [],
   "source": [
    "nodeTags, nodeCoords, nodeParams = gmsh.model.mesh.get_nodes(-1,-1)"
   ]
  },
  {
   "cell_type": "code",
   "execution_count": 36,
   "metadata": {},
   "outputs": [
    {
     "name": "stdout",
     "output_type": "stream",
     "text": [
      "[(1, 1), (1, 2), (2, 3)]\n"
     ]
    },
    {
     "data": {
      "text/plain": [
       "(array([   1,    2,    3, ..., 2046, 2047, 2048], dtype=uint64),\n",
       " array([  0.        ,   0.        ,   0.        , ...,   1.15930581,\n",
       "        120.91996415,   0.        ]))"
      ]
     },
     "execution_count": 36,
     "metadata": {},
     "output_type": "execute_result"
    }
   ],
   "source": [
    "print(gmsh.model.get_physical_groups())\n",
    "\n",
    "# get the nodes for the physical group\n",
    "nodeTags,nodeCoords = gmsh.model.mesh.get_nodes_for_physical_group(2,3)\n",
    "nodeTags,nodeCoords"
   ]
  },
  {
   "cell_type": "code",
   "execution_count": 37,
   "metadata": {},
   "outputs": [
    {
     "data": {
      "text/plain": [
       "((2048, 3), (2048, 3))"
      ]
     },
     "execution_count": 37,
     "metadata": {},
     "output_type": "execute_result"
    }
   ],
   "source": [
    "nodeCoordsMat = np.reshape(nodeCoords,(-1,3))\n",
    "nodeCoordsMat2 = np.unique(nodeCoordsMat,axis=0)\n",
    "nodeCoordsMat.shape,nodeCoordsMat2.shape"
   ]
  },
  {
   "cell_type": "code",
   "execution_count": 27,
   "metadata": {},
   "outputs": [],
   "source": [
    "# Step 3: Save the array to a CSV file\n",
    "np.savetxt('nodeCoordsMat.csv', nodeCoordsMat, delimiter=',')"
   ]
  }
 ],
 "metadata": {
  "kernelspec": {
   "display_name": "venv",
   "language": "python",
   "name": "python3"
  },
  "language_info": {
   "codemirror_mode": {
    "name": "ipython",
    "version": 3
   },
   "file_extension": ".py",
   "mimetype": "text/x-python",
   "name": "python",
   "nbconvert_exporter": "python",
   "pygments_lexer": "ipython3",
   "version": "3.11.9"
  }
 },
 "nbformat": 4,
 "nbformat_minor": 2
}
