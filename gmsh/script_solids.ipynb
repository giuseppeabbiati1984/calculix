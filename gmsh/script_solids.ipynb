{
 "cells": [
  {
   "cell_type": "markdown",
   "metadata": {},
   "source": [
    "# meshing of solids\n",
    "In this example, I mesh a 3d imported geometry. A circle is etched on a surface of the solid. The OpenCascade kernel (OCC) is selected to operate on imported geometries read from *.stp files. I cannot do the same with the natural kernel of GMSH."
   ]
  },
  {
   "cell_type": "code",
   "execution_count": 1,
   "metadata": {},
   "outputs": [],
   "source": [
    "import numpy as np\n",
    "import gmsh\n",
    "import sys\n",
    "import os\n",
    "import math\n",
    "\n",
    "def gmsh_plot():\n",
    "\n",
    "    # Synchronize the model to build the geometry\n",
    "    gmsh.model.occ.synchronize()\n",
    "\n",
    "    # visualize the model, whatever you do here it is avaialble later in the script\n",
    "    if '-nopopup' not in sys.argv:\n",
    "        gmsh.fltk.run()\n",
    "\n",
    "# Initialize the Gmsh API\n",
    "gmsh.initialize()\n",
    "gmsh.model.add(\"t20\")\n",
    "#gmsh.merge(\"two_blocks.stp\")\n",
    "gmsh.model.occ.importShapes(\"two_blocks.stp\")\n",
    "\n",
    "# Synchronize the CAD model with the Gmsh model\n",
    "gmsh.model.occ.synchronize()\n",
    "\n",
    "# remove matching entities\n",
    "gmsh.model.occ.remove_all_duplicates()"
   ]
  },
  {
   "cell_type": "code",
   "execution_count": null,
   "metadata": {},
   "outputs": [],
   "source": [
    "# Get all points\n",
    "point_tags = gmsh.model.getEntities(0)  # 0 refers to points\n",
    "line_tags = gmsh.model.getEntities(1)  # 0 refers to points\n",
    "surface_tags = gmsh.model.getEntities(2)  # 0 refers to points\n",
    "volume_tags = gmsh.model.getEntities(3)  # 0 refers to points\n",
    "\n",
    "for point_tag in point_tags:\n",
    "    point_coord = gmsh.model.get_value(0, point_tag[1], [0])\n",
    "    print(f\"Point ID: {point_tag[1]}, coordinates: {point_coord}\")\n",
    "\n",
    "for line_tag in line_tags:\n",
    "    # parametrization bounds of the line\n",
    "    bounds = gmsh.model.get_parametrization_bounds(1, line_tag[1])\n",
    "    # coordinate of the mid-point of each line\n",
    "    mid_point_coord = gmsh.model.get_value(1, line_tag[1], (bounds[0]+bounds[1])/2)\n",
    "    print(f\"Point ID: {line_tag[1]}, mid coordinates: {mid_point_coord}\")\n"
   ]
  },
  {
   "cell_type": "code",
   "execution_count": 5,
   "metadata": {},
   "outputs": [],
   "source": [
    "gmsh_plot()"
   ]
  },
  {
   "cell_type": "code",
   "execution_count": null,
   "metadata": {},
   "outputs": [],
   "source": [
    "point_coord1 = gmsh.model.get_value(0, 15, [0])\n",
    "point_coord2 = gmsh.model.get_value(0, 16, [0])\n",
    "point_coord3 = gmsh.model.get_value(0, 17, [0])\n",
    "point_coord4 = gmsh.model.get_value(0, 18, [0])\n",
    "\n",
    "print(f\"Point 1: {point_coord1}\")\n",
    "print(f\"Point 2: {point_coord2}\")\n",
    "print(f\"Point 3: {point_coord3}\")\n",
    "print(f\"Point 4: {point_coord4}\")\n",
    "\n",
    "center_coord_x = (point_coord1[0]+point_coord2[0]+point_coord3[0]+point_coord4[0])/4\n",
    "center_coord_y = (point_coord1[1]+point_coord2[1]+point_coord3[1]+point_coord4[1])/4\n",
    "center_coord_z = (point_coord1[2]+point_coord2[2]+point_coord3[2]+point_coord4[2])/4\n",
    "\n",
    "print(f\"Point x: {center_coord_x}\")\n",
    "print(f\"Point y: {center_coord_y}\")\n",
    "print(f\"Point z: {center_coord_z}\")\n",
    "\n",
    "r = 2.0\n",
    "\n",
    "# x (double), y (double), z (double), meshSize = 0. (double), tag = -1 (integer)\n",
    "gmsh.model.occ.add_point(center_coord_x, center_coord_y, center_coord_z, 1, 100)\n",
    "gmsh.model.occ.add_point(center_coord_x+r, center_coord_y, center_coord_z, 1, 101)\n",
    "gmsh.model.occ.add_point(center_coord_x, center_coord_y, center_coord_z+r, 1, 102)\n",
    "gmsh.model.occ.add_point(center_coord_x-r, center_coord_y, center_coord_z, 1, 103)\n",
    "gmsh.model.occ.add_point(center_coord_x, center_coord_y, center_coord_z-r, 1, 104)\n",
    "\n",
    "# startTag (integer), centerTag (integer), endTag (integer), tag = -1 (integer), nx = 0. (double), ny = 0. (double), nz = 0. (double)\n",
    "# startTag (integer), middleTag (integer), endTag (integer), tag = -1 (integer), center = True (boolean)\n",
    "gmsh.model.occ.add_circle_arc(101,102,103,201,False)#,0,1,0)\n",
    "gmsh.model.occ.add_circle_arc(103,104,101,202,False)#,0,1,0)\n",
    "#gmsh.model.occ.add_circle_arc(103,100,104,203,0,1,0)\n",
    "#gmsh.model.occ.add_circle_arc(104,100,101,204,0,1,0)\n",
    "\n",
    "# remove matching entities\n",
    "gmsh.model.occ.remove_all_duplicates()\n",
    "\n",
    "# We have to synchronize before embedding entites:\n",
    "gmsh.model.occ.synchronize()"
   ]
  },
  {
   "cell_type": "code",
   "execution_count": 7,
   "metadata": {},
   "outputs": [],
   "source": [
    "# One can force this point to be included (\"embedded\") in the 2D mesh, using the\n",
    "# `embed()' function:\n",
    "#gmsh.model.mesh.embed(1,[201,202,203,204],2,14)\n",
    "gmsh.model.mesh.embed(1,[201,202],2,14)\n",
    "\n",
    "# We have to synchronize before embedding entites:\n",
    "gmsh.model.occ.synchronize()"
   ]
  },
  {
   "cell_type": "code",
   "execution_count": 6,
   "metadata": {},
   "outputs": [],
   "source": [
    "gmsh_plot()"
   ]
  },
  {
   "cell_type": "code",
   "execution_count": null,
   "metadata": {},
   "outputs": [],
   "source": [
    "#gmsh.model.add_physical_group(3, [1],name=\"my concave volume\")\n",
    "#gmsh.model.add_physical_group(3, [2],name=\"my cube\")\n",
    "#gmsh.model.get_boundary([(3,1)], True, True, False)\n",
    "#gmsh.model.get_boundary([(3,2)], True, True, False)\n",
    "#gmsh.model.get_entities(3)"
   ]
  },
  {
   "cell_type": "code",
   "execution_count": 8,
   "metadata": {},
   "outputs": [],
   "source": [
    "# Finally, let's specify a global mesh size and mesh the partitioned model:\n",
    "gmsh.option.set_number(\"Mesh.MeshSizeMin\", 0.1)\n",
    "gmsh.option.set_number(\"Mesh.MeshSizeMax\", 0.2)\n",
    "gmsh.model.mesh.generate(2)"
   ]
  },
  {
   "cell_type": "code",
   "execution_count": 9,
   "metadata": {},
   "outputs": [],
   "source": [
    "gmsh_plot()"
   ]
  },
  {
   "cell_type": "code",
   "execution_count": 10,
   "metadata": {},
   "outputs": [],
   "source": [
    "# We have to synchronize before embedding entites:\n",
    "gmsh.model.occ.synchronize()\n",
    "gmsh.model.mesh.generate(3)"
   ]
  },
  {
   "cell_type": "code",
   "execution_count": 11,
   "metadata": {},
   "outputs": [],
   "source": [
    "gmsh_plot()"
   ]
  }
 ],
 "metadata": {
  "kernelspec": {
   "display_name": "venv",
   "language": "python",
   "name": "python3"
  },
  "language_info": {
   "codemirror_mode": {
    "name": "ipython",
    "version": 3
   },
   "file_extension": ".py",
   "mimetype": "text/x-python",
   "name": "python",
   "nbconvert_exporter": "python",
   "pygments_lexer": "ipython3",
   "version": "3.11.9"
  }
 },
 "nbformat": 4,
 "nbformat_minor": 2
}
